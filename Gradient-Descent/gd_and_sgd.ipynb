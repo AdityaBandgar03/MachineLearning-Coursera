{
 "cells": [
  {
   "cell_type": "markdown",
   "metadata": {},
   "source": [
    "<h2 style='color:aqua' align='center'>Implementation of stochastic and batch grandient descent in python</h2>"
   ]
  },
  {
   "cell_type": "markdown",
   "metadata": {},
   "source": [
    "#### We will use very simple home prices data set to implement batch and stochastic gradient descent in python. Batch gradient descent uses *all* training samples in forward pass to calculate cumulitive error and than we adjust weights using derivaties. In stochastic GD, we randomly pick *one* training sample, perform forward pass, compute the error and immidiately adjust weights. So the key difference here is that to adjust weights batch GD will use *all* training samples where as stochastic GD will use one randomly picked training sample"
   ]
  },
  {
   "cell_type": "code",
   "execution_count": 50,
   "metadata": {},
   "outputs": [],
   "source": [
    "import pandas as pd\n",
    "import numpy as np\n",
    "from matplotlib import pyplot as plt\n",
    "%matplotlib inline"
   ]
  },
  {
   "cell_type": "markdown",
   "metadata": {},
   "source": [
    "##### Load the dataset in pandas dataframe"
   ]
  },
  {
   "cell_type": "code",
   "execution_count": 51,
   "metadata": {},
   "outputs": [
    {
     "data": {
      "text/html": [
       "<div>\n",
       "<style scoped>\n",
       "    .dataframe tbody tr th:only-of-type {\n",
       "        vertical-align: middle;\n",
       "    }\n",
       "\n",
       "    .dataframe tbody tr th {\n",
       "        vertical-align: top;\n",
       "    }\n",
       "\n",
       "    .dataframe thead th {\n",
       "        text-align: right;\n",
       "    }\n",
       "</style>\n",
       "<table border=\"1\" class=\"dataframe\">\n",
       "  <thead>\n",
       "    <tr style=\"text-align: right;\">\n",
       "      <th></th>\n",
       "      <th>area</th>\n",
       "      <th>bedrooms</th>\n",
       "      <th>price</th>\n",
       "    </tr>\n",
       "  </thead>\n",
       "  <tbody>\n",
       "    <tr>\n",
       "      <th>5</th>\n",
       "      <td>1170</td>\n",
       "      <td>2</td>\n",
       "      <td>38.0</td>\n",
       "    </tr>\n",
       "    <tr>\n",
       "      <th>4</th>\n",
       "      <td>1200</td>\n",
       "      <td>2</td>\n",
       "      <td>51.0</td>\n",
       "    </tr>\n",
       "    <tr>\n",
       "      <th>8</th>\n",
       "      <td>1310</td>\n",
       "      <td>3</td>\n",
       "      <td>50.0</td>\n",
       "    </tr>\n",
       "    <tr>\n",
       "      <th>19</th>\n",
       "      <td>800</td>\n",
       "      <td>1</td>\n",
       "      <td>32.0</td>\n",
       "    </tr>\n",
       "    <tr>\n",
       "      <th>17</th>\n",
       "      <td>1540</td>\n",
       "      <td>3</td>\n",
       "      <td>60.0</td>\n",
       "    </tr>\n",
       "  </tbody>\n",
       "</table>\n",
       "</div>"
      ],
      "text/plain": [
       "    area  bedrooms  price\n",
       "5   1170         2   38.0\n",
       "4   1200         2   51.0\n",
       "8   1310         3   50.0\n",
       "19   800         1   32.0\n",
       "17  1540         3   60.0"
      ]
     },
     "execution_count": 51,
     "metadata": {},
     "output_type": "execute_result"
    }
   ],
   "source": [
    "df = pd.read_csv(\"homeprices_banglore.csv\")\n",
    "df.sample(5)"
   ]
  },
  {
   "cell_type": "markdown",
   "metadata": {},
   "source": [
    "##### Preprocessing/Scaling: Since our columns are on different sacle it is important to perform scaling on them\n",
    "\n",
    "MinMaxScaler scales each feature between 0 and 1 using the formula:\n",
    "\n",
    "X_scaled = (X -X_min)/(X_max - X_min)\n",
    "​\n",
    " \n",
    "​\n"
   ]
  },
  {
   "cell_type": "code",
   "execution_count": 52,
   "metadata": {},
   "outputs": [
    {
     "data": {
      "text/plain": [
       "array([[0.08827586, 0.25      ],\n",
       "       [0.62068966, 0.75      ],\n",
       "       [0.22068966, 0.5       ],\n",
       "       [0.24862069, 0.5       ],\n",
       "       [0.13793103, 0.25      ],\n",
       "       [0.12758621, 0.25      ],\n",
       "       [0.6662069 , 0.75      ],\n",
       "       [0.86206897, 0.75      ],\n",
       "       [0.17586207, 0.5       ],\n",
       "       [1.        , 1.        ],\n",
       "       [0.34482759, 0.5       ],\n",
       "       [0.68448276, 0.75      ],\n",
       "       [0.06896552, 0.25      ],\n",
       "       [0.10344828, 0.25      ],\n",
       "       [0.5       , 0.5       ],\n",
       "       [0.12931034, 0.25      ],\n",
       "       [0.13103448, 0.5       ],\n",
       "       [0.25517241, 0.5       ],\n",
       "       [0.67931034, 0.5       ],\n",
       "       [0.        , 0.        ]])"
      ]
     },
     "execution_count": 52,
     "metadata": {},
     "output_type": "execute_result"
    }
   ],
   "source": [
    "from sklearn import preprocessing\n",
    "sx = preprocessing.MinMaxScaler()\n",
    "sy = preprocessing.MinMaxScaler()\n",
    "\n",
    "scaled_X = sx.fit_transform(df.drop('price',axis='columns'))\n",
    "scaled_y = sy.fit_transform(df['price'].values.reshape(df.shape[0],1)) #MinMaxScaler expects 2d input so need to reshape here.\n",
    "\n",
    "scaled_X"
   ]
  },
  {
   "cell_type": "code",
   "execution_count": 53,
   "metadata": {},
   "outputs": [
    {
     "data": {
      "text/plain": [
       "array([[0.05237037],\n",
       "       [0.65185185],\n",
       "       [0.22222222],\n",
       "       [0.31851852],\n",
       "       [0.14074074],\n",
       "       [0.04444444],\n",
       "       [0.76296296],\n",
       "       [0.91111111],\n",
       "       [0.13333333],\n",
       "       [1.        ],\n",
       "       [0.37037037],\n",
       "       [0.8       ],\n",
       "       [0.04444444],\n",
       "       [0.05925926],\n",
       "       [0.51111111],\n",
       "       [0.07407407],\n",
       "       [0.11851852],\n",
       "       [0.20740741],\n",
       "       [0.51851852],\n",
       "       [0.        ]])"
      ]
     },
     "execution_count": 53,
     "metadata": {},
     "output_type": "execute_result"
    }
   ],
   "source": [
    "scaled_y"
   ]
  },
  {
   "cell_type": "markdown",
   "metadata": {},
   "source": [
    "##### We should convert target column (i.e. price) into one dimensional array. It has become 2D due to scaling that we did above but now we should change to 1D"
   ]
  },
  {
   "cell_type": "code",
   "execution_count": 54,
   "metadata": {
    "scrolled": true
   },
   "outputs": [
    {
     "data": {
      "text/plain": [
       "array([0.05237037, 0.65185185, 0.22222222, 0.31851852, 0.14074074,\n",
       "       0.04444444, 0.76296296, 0.91111111, 0.13333333, 1.        ,\n",
       "       0.37037037, 0.8       , 0.04444444, 0.05925926, 0.51111111,\n",
       "       0.07407407, 0.11851852, 0.20740741, 0.51851852, 0.        ])"
      ]
     },
     "execution_count": 54,
     "metadata": {},
     "output_type": "execute_result"
    }
   ],
   "source": [
    "scaled_y.reshape(20,)"
   ]
  },
  {
   "cell_type": "markdown",
   "metadata": {},
   "source": [
    "##### Gradient descent allows you to find weights (w1,w2,w3) and bias in following linear equation for housing price prediction"
   ]
  },
  {
   "cell_type": "markdown",
   "metadata": {},
   "source": [
    "##### implementation batch gradient descent. "
   ]
  },
  {
   "cell_type": "code",
   "execution_count": 91,
   "metadata": {
    "scrolled": false
   },
   "outputs": [
    {
     "name": "stdout",
     "output_type": "stream",
     "text": [
      "Parameters w updated after 10000 epochs  [0.75542433 0.41584433]\n",
      "Parameter b updated  -0.1168495091725071\n",
      "final cost after 10000 epochs  0.0034258680582336513\n",
      "Value of cost at  0 th epoch -> 0.2768777174681\n",
      "Value of cost at  100 th epoch -> 0.032761441621765364\n",
      "Value of cost at  200 th epoch -> 0.015759877373811012\n",
      "Value of cost at  300 th epoch -> 0.013082552025297406\n",
      "Value of cost at  400 th epoch -> 0.011572921816370653\n",
      "Value of cost at  500 th epoch -> 0.010370372645036041\n",
      "Value of cost at  600 th epoch -> 0.009380042706263423\n",
      "Value of cost at  700 th epoch -> 0.008561667598595946\n",
      "Value of cost at  800 th epoch -> 0.007884484285206808\n",
      "Value of cost at  900 th epoch -> 0.007323360232124858\n",
      "Value of cost at  1000 th epoch -> 0.006857654930540665\n",
      "Value of cost at  1100 th epoch -> 0.006470410191483438\n",
      "Value of cost at  1200 th epoch -> 0.006147692641969006\n",
      "Value of cost at  1300 th epoch -> 0.005878054010540598\n",
      "Value of cost at  1400 th epoch -> 0.00565208773936691\n",
      "Value of cost at  1500 th epoch -> 0.005462064708551012\n",
      "Value of cost at  1600 th epoch -> 0.0053016339555242474\n",
      "Value of cost at  1700 th epoch -> 0.005165576792805941\n",
      "Value of cost at  1800 th epoch -> 0.005049604796628831\n",
      "Value of cost at  1900 th epoch -> 0.004950193838860971\n",
      "Value of cost at  2000 th epoch -> 0.004864447731273739\n",
      "Value of cost at  2100 th epoch -> 0.004789986198634975\n",
      "Value of cost at  2200 th epoch -> 0.004724852839807779\n",
      "Value of cost at  2300 th epoch -> 0.004667439510537589\n",
      "Value of cost at  2400 th epoch -> 0.004616424197923104\n",
      "Value of cost at  2500 th epoch -> 0.004570719979346738\n",
      "Value of cost at  2600 th epoch -> 0.004529433088144498\n",
      "Value of cost at  2700 th epoch -> 0.004491828461165789\n",
      "Value of cost at  2800 th epoch -> 0.004457301433284219\n",
      "Value of cost at  2900 th epoch -> 0.004425354482104229\n",
      "Value of cost at  3000 th epoch -> 0.004395578121794632\n",
      "Value of cost at  3100 th epoch -> 0.004367635205751601\n",
      "Value of cost at  3200 th epoch -> 0.004341248029879707\n",
      "Value of cost at  3300 th epoch -> 0.004316187736798337\n",
      "Value of cost at  3400 th epoch -> 0.004292265610437693\n",
      "Value of cost at  3500 th epoch -> 0.004269325923737341\n",
      "Value of cost at  3600 th epoch -> 0.004247240062340178\n",
      "Value of cost at  3700 th epoch -> 0.00422590169661685\n",
      "Value of cost at  3800 th epoch -> 0.004205222814976305\n",
      "Value of cost at  3900 th epoch -> 0.004185130464791184\n",
      "Value of cost at  4000 th epoch -> 0.004165564074685158\n",
      "Value of cost at  4100 th epoch -> 0.004146473254455796\n",
      "Value of cost at  4200 th epoch -> 0.0041278159874135745\n",
      "Value of cost at  4300 th epoch -> 0.004109557145122859\n",
      "Value of cost at  4400 th epoch -> 0.0040916672670226984\n",
      "Value of cost at  4500 th epoch -> 0.004074121557668521\n",
      "Value of cost at  4600 th epoch -> 0.004056899062767945\n",
      "Value of cost at  4700 th epoch -> 0.0040399819921114345\n",
      "Value of cost at  4800 th epoch -> 0.004023355163190066\n",
      "Value of cost at  4900 th epoch -> 0.0040070055439687165\n",
      "Value of cost at  5000 th epoch -> 0.003990921877124722\n",
      "Value of cost at  5100 th epoch -> 0.003975094371218327\n",
      "Value of cost at  5200 th epoch -> 0.003959514446854346\n",
      "Value of cost at  5300 th epoch -> 0.003944174528024888\n",
      "Value of cost at  5400 th epoch -> 0.003929067870573429\n",
      "Value of cost at  5500 th epoch -> 0.003914188421158387\n",
      "Value of cost at  5600 th epoch -> 0.003899530701275942\n",
      "Value of cost at  5700 th epoch -> 0.003885089711872466\n",
      "Value of cost at  5800 th epoch -> 0.003870860854874282\n",
      "Value of cost at  5900 th epoch -> 0.0038568398686178963\n",
      "Value of cost at  6000 th epoch -> 0.0038430227747018224\n",
      "Value of cost at  6100 th epoch -> 0.0038294058342236573\n",
      "Value of cost at  6200 th epoch -> 0.0038159855117291482\n",
      "Value of cost at  6300 th epoch -> 0.003802758445498697\n",
      "Value of cost at  6400 th epoch -> 0.003789721423041864\n",
      "Value of cost at  6500 th epoch -> 0.0037768713608719745\n",
      "Value of cost at  6600 th epoch -> 0.0037642052877985164\n",
      "Value of cost at  6700 th epoch -> 0.0037517203311108866\n",
      "Value of cost at  6800 th epoch -> 0.003739413705138947\n",
      "Value of cost at  6900 th epoch -> 0.003727282701767522\n",
      "Value of cost at  7000 th epoch -> 0.0037153246825574844\n",
      "Value of cost at  7100 th epoch -> 0.0037035370721879637\n",
      "Value of cost at  7200 th epoch -> 0.003691917352985164\n",
      "Value of cost at  7300 th epoch -> 0.003680463060345143\n",
      "Value of cost at  7400 th epoch -> 0.0036691717788921484\n",
      "Value of cost at  7500 th epoch -> 0.0036580411392424855\n",
      "Value of cost at  7600 th epoch -> 0.0036470688152669697\n",
      "Value of cost at  7700 th epoch -> 0.003636252521764158\n",
      "Value of cost at  7800 th epoch -> 0.0036255900124721268\n",
      "Value of cost at  7900 th epoch -> 0.003615079078359526\n",
      "Value of cost at  8000 th epoch -> 0.0036047175461471188\n",
      "Value of cost at  8100 th epoch -> 0.003594503277019763\n",
      "Value of cost at  8200 th epoch -> 0.003584434165495876\n",
      "Value of cost at  8300 th epoch -> 0.003574508138427335\n",
      "Value of cost at  8400 th epoch -> 0.0035647231541075172\n",
      "Value of cost at  8500 th epoch -> 0.003555077201469243\n",
      "Value of cost at  8600 th epoch -> 0.003545568299357494\n",
      "Value of cost at  8700 th epoch -> 0.0035361944958645754\n",
      "Value of cost at  8800 th epoch -> 0.0035269538677175603\n",
      "Value of cost at  8900 th epoch -> 0.003517844519709569\n",
      "Value of cost at  9000 th epoch -> 0.0035088645841680386\n",
      "Value of cost at  9100 th epoch -> 0.003500012220454278\n",
      "Value of cost at  9200 th epoch -> 0.0034912856144896504\n",
      "Value of cost at  9300 th epoch -> 0.003482682978304486\n",
      "Value of cost at  9400 th epoch -> 0.003474202549606594\n",
      "Value of cost at  9500 th epoch -> 0.0034658425913667106\n",
      "Value of cost at  9600 th epoch -> 0.0034576013914186915\n",
      "Value of cost at  9700 th epoch -> 0.0034494772620727457\n",
      "Value of cost at  9800 th epoch -> 0.0034414685397401003\n",
      "Value of cost at  9900 th epoch -> 0.0034335735845679657\n"
     ]
    }
   ],
   "source": [
    "def batch_gradient_descent(X, y_true, epochs, learning_rate = 0.01):\n",
    "\n",
    "    number_of_features = X.shape[1]\n",
    "    # numpy array with 1 row and columns equal to number of features. In \n",
    "    # our case number_of_features = 2 (area, bedroom)\n",
    "    w = np.ones(shape=(number_of_features)) \n",
    "    b = 0\n",
    "    total_samples = X.shape[0] # number of rows in X\n",
    "    \n",
    "    cost_list = []\n",
    "    epoch_list = []\n",
    "    \n",
    "    for i in range(epochs ):        \n",
    "        y_predicted = np.dot(w, X.T) + b\n",
    "\n",
    "        w_grad = -(1/total_samples)*(X.T.dot(y_true-y_predicted))\n",
    "        b_grad = -(1/total_samples)*np.sum(y_true-y_predicted)\n",
    "        \n",
    "        w = w - learning_rate * w_grad\n",
    "        b = b - learning_rate * b_grad\n",
    "        \n",
    "        cost = np.mean(np.square(y_true-y_predicted)) # MSE (Mean Squared Error)\n",
    "        \n",
    "        if i%100==0:\n",
    "            cost_list.append(cost)\n",
    "            epoch_list.append(i)\n",
    "        \n",
    "    return w, b, cost, cost_list, epoch_list,epochs\n",
    "\n",
    "w, b, cost, cost_list, epoch_list,epochs = batch_gradient_descent(scaled_X,scaled_y.reshape(scaled_y.shape[0],),10000)\n",
    "print(f\"Parameters w updated after {epochs} epochs \",w)\n",
    "print(\"Parameter b updated \",b)\n",
    "print(f\"final cost after {epochs} epochs \", cost)\n",
    "for i in range(len(cost_list)):\n",
    "    print(\"Value of cost at \", epoch_list[i],\"th epoch\",\"->\",cost_list[i])\n",
    "\n",
    "\n"
   ]
  },
  {
   "cell_type": "markdown",
   "metadata": {},
   "source": [
    "### Now plot epoch vs cost graph to see how cost reduces as number of epoch increases"
   ]
  },
  {
   "cell_type": "code",
   "execution_count": 92,
   "metadata": {
    "scrolled": true
   },
   "outputs": [
    {
     "data": {
      "text/plain": [
       "[<matplotlib.lines.Line2D at 0x1113e4c70>]"
      ]
     },
     "execution_count": 92,
     "metadata": {},
     "output_type": "execute_result"
    },
    {
     "data": {
      "image/png": "[encoded data removed]",
      "text/plain": [
       "<Figure size 640x480 with 1 Axes>"
      ]
     },
     "metadata": {},
     "output_type": "display_data"
    }
   ],
   "source": [
    "plt.xlabel(\"epoch\")\n",
    "plt.ylabel(\"cost\")\n",
    "plt.plot(epoch_list,cost_list)"
   ]
  },
  {
   "cell_type": "markdown",
   "metadata": {},
   "source": [
    "### Lets do some predictions now. "
   ]
  },
  {
   "cell_type": "code",
   "execution_count": 93,
   "metadata": {},
   "outputs": [
    {
     "name": "stdout",
     "output_type": "stream",
     "text": [
      "121.62890374415593\n"
     ]
    }
   ],
   "source": [
    "def predict(area,bedrooms,w,b):\n",
    "    input_data = pd.DataFrame([[area, bedrooms]], columns=['area', 'bedrooms'])\n",
    "    scaled_X = sx.transform(input_data)[0]\n",
    "    # here w1 = w[0] , w2 = w[1], w3 = w[2] and bias is b\n",
    "    # equation for price is w1*area + w2*bedrooms + bias\n",
    "    \n",
    "    scaled_price = w[0] * scaled_X[0] + w[1] * scaled_X[1] + b\n",
    "    # once we get price prediction we need to to rescal it back to original value\n",
    "    # also since it returns 2D array, to get single value we need to do value[0][0]\n",
    "    return sy.inverse_transform([[scaled_price]])[0][0]\n",
    "\n",
    "value = predict(2600,4,w,b)\n",
    "print(value)\n"
   ]
  },
  {
   "cell_type": "code",
   "execution_count": 94,
   "metadata": {},
   "outputs": [
    {
     "name": "stdout",
     "output_type": "stream",
     "text": [
      "40.809953918193116\n"
     ]
    }
   ],
   "source": [
    "value = predict(1100,2,w,b)\n",
    "print(value)"
   ]
  },
  {
   "cell_type": "code",
   "execution_count": 95,
   "metadata": {
    "scrolled": true
   },
   "outputs": [
    {
     "name": "stdout",
     "output_type": "stream",
     "text": [
      "68.9112220761191\n"
     ]
    }
   ],
   "source": [
    "value = predict(1500,3,w,b)\n",
    "print(value)"
   ]
  },
  {
   "cell_type": "markdown",
   "metadata": {},
   "source": [
    "<h3 style='color:purple'>(2) Stochastic Gradient Descent Implementation</h3>"
   ]
  },
  {
   "cell_type": "markdown",
   "metadata": {},
   "source": [
    "#### Stochastic GD will use randomly picked single training sample to calculate error and using this error we backpropage to adjust weights"
   ]
  },
  {
   "cell_type": "code",
   "execution_count": 79,
   "metadata": {},
   "outputs": [],
   "source": [
    "# we will use random libary to pick random training sample.\n",
    "import random\n"
   ]
  },
  {
   "cell_type": "code",
   "execution_count": 98,
   "metadata": {},
   "outputs": [
    {
     "name": "stdout",
     "output_type": "stream",
     "text": [
      "Parameters w updated after 10000 epochs  [0.76001444 0.72951456]\n",
      "Parameter b updated  -0.281431037177124\n",
      "final cost after 10000 epochs  0.0008323270399805283\n",
      "Value of cost at  0 th epoch -> 0.23901234567901217\n",
      "Value of cost at  100 th epoch -> 0.06502131120896357\n",
      "Value of cost at  200 th epoch -> 0.03652226183018416\n",
      "Value of cost at  300 th epoch -> 0.2074338412172376\n",
      "Value of cost at  400 th epoch -> 0.031636063594037096\n",
      "Value of cost at  500 th epoch -> 0.030504530142042973\n",
      "Value of cost at  600 th epoch -> 0.23720001516311845\n",
      "Value of cost at  700 th epoch -> 0.19784856101467718\n",
      "Value of cost at  800 th epoch -> 0.010506376522960329\n",
      "Value of cost at  900 th epoch -> 0.1258859767350289\n",
      "Value of cost at  1000 th epoch -> 0.15028485843449685\n",
      "Value of cost at  1100 th epoch -> 0.08528238059689827\n",
      "Value of cost at  1200 th epoch -> 0.14943508865344732\n",
      "Value of cost at  1300 th epoch -> 0.06963006629782784\n",
      "Value of cost at  1400 th epoch -> 0.12392773826916122\n",
      "Value of cost at  1500 th epoch -> 0.0016628223444218884\n",
      "Value of cost at  1600 th epoch -> 0.00048707797810736353\n",
      "Value of cost at  1700 th epoch -> 0.0004728816548006292\n",
      "Value of cost at  1800 th epoch -> 0.025107198741865545\n",
      "Value of cost at  1900 th epoch -> 0.05352096039154482\n",
      "Value of cost at  2000 th epoch -> 7.334433077571463e-05\n",
      "Value of cost at  2100 th epoch -> 0.008777274920268224\n",
      "Value of cost at  2200 th epoch -> 0.02297392631751895\n",
      "Value of cost at  2300 th epoch -> 0.02095312692602141\n",
      "Value of cost at  2400 th epoch -> 0.0729014929540885\n",
      "Value of cost at  2500 th epoch -> 0.004153644404414369\n",
      "Value of cost at  2600 th epoch -> 0.0035950598962556576\n",
      "Value of cost at  2700 th epoch -> 0.02488362106906306\n",
      "Value of cost at  2800 th epoch -> 0.0018169752427514365\n",
      "Value of cost at  2900 th epoch -> 0.017005308159338157\n",
      "Value of cost at  3000 th epoch -> 0.00391473121420299\n",
      "Value of cost at  3100 th epoch -> 0.1272490092485073\n",
      "Value of cost at  3200 th epoch -> 0.0007719641961065303\n",
      "Value of cost at  3300 th epoch -> 0.006425745537843014\n",
      "Value of cost at  3400 th epoch -> 0.012086891922941745\n",
      "Value of cost at  3500 th epoch -> 0.005792257262576435\n",
      "Value of cost at  3600 th epoch -> 0.000275958832666659\n",
      "Value of cost at  3700 th epoch -> 0.0103230273995899\n",
      "Value of cost at  3800 th epoch -> 0.008198869250525213\n",
      "Value of cost at  3900 th epoch -> 0.01799548887537761\n",
      "Value of cost at  4000 th epoch -> 0.006489742485245458\n",
      "Value of cost at  4100 th epoch -> 0.0050938684941678886\n",
      "Value of cost at  4200 th epoch -> 0.006919885889424868\n",
      "Value of cost at  4300 th epoch -> 0.01935729023374074\n",
      "Value of cost at  4400 th epoch -> 0.001890991344098263\n",
      "Value of cost at  4500 th epoch -> 0.0034794145662217627\n",
      "Value of cost at  4600 th epoch -> 0.005095291007442072\n",
      "Value of cost at  4700 th epoch -> 0.002975393189309584\n",
      "Value of cost at  4800 th epoch -> 0.008389336755301218\n",
      "Value of cost at  4900 th epoch -> 0.002787647713384134\n",
      "Value of cost at  5000 th epoch -> 0.008333306103942537\n",
      "Value of cost at  5100 th epoch -> 0.006445625518237156\n",
      "Value of cost at  5200 th epoch -> 0.0034482380637276067\n",
      "Value of cost at  5300 th epoch -> 0.009974349515381805\n",
      "Value of cost at  5400 th epoch -> 0.0005679123525279694\n",
      "Value of cost at  5500 th epoch -> 0.013904201507465368\n",
      "Value of cost at  5600 th epoch -> 0.013427032965065614\n",
      "Value of cost at  5700 th epoch -> 0.008919065654391937\n",
      "Value of cost at  5800 th epoch -> 0.00024536029178955066\n",
      "Value of cost at  5900 th epoch -> 0.005716209318753526\n",
      "Value of cost at  6000 th epoch -> 0.02027543892241581\n",
      "Value of cost at  6100 th epoch -> 0.007887899023533946\n",
      "Value of cost at  6200 th epoch -> 0.006932715489938301\n",
      "Value of cost at  6300 th epoch -> 0.001645329119085573\n",
      "Value of cost at  6400 th epoch -> 0.003026359271297869\n",
      "Value of cost at  6500 th epoch -> 0.0004129613795058708\n",
      "Value of cost at  6600 th epoch -> 0.0031176048860389696\n",
      "Value of cost at  6700 th epoch -> 0.0069538900844885775\n",
      "Value of cost at  6800 th epoch -> 0.0052100922040743455\n",
      "Value of cost at  6900 th epoch -> 0.00406792514610214\n",
      "Value of cost at  7000 th epoch -> 0.019900465456518752\n",
      "Value of cost at  7100 th epoch -> 0.008375903713530914\n",
      "Value of cost at  7200 th epoch -> 0.009713396818674098\n",
      "Value of cost at  7300 th epoch -> 0.005226478588556386\n",
      "Value of cost at  7400 th epoch -> 0.0009410467337985918\n",
      "Value of cost at  7500 th epoch -> 0.009701918291961393\n",
      "Value of cost at  7600 th epoch -> 0.0008881264370772407\n",
      "Value of cost at  7700 th epoch -> 0.0008820930839870679\n",
      "Value of cost at  7800 th epoch -> 0.0009147610141017474\n",
      "Value of cost at  7900 th epoch -> 0.0005235964228718712\n",
      "Value of cost at  8000 th epoch -> 0.008237088223529474\n",
      "Value of cost at  8100 th epoch -> 0.019577540331741642\n",
      "Value of cost at  8200 th epoch -> 0.004127141571530219\n",
      "Value of cost at  8300 th epoch -> 0.00796019284553351\n",
      "Value of cost at  8400 th epoch -> 0.007886647648609305\n",
      "Value of cost at  8500 th epoch -> 0.009188043927062985\n",
      "Value of cost at  8600 th epoch -> 0.008530863178952621\n",
      "Value of cost at  8700 th epoch -> 0.08387899079503697\n",
      "Value of cost at  8800 th epoch -> 0.004929910373855405\n",
      "Value of cost at  8900 th epoch -> 0.006022908908802674\n",
      "Value of cost at  9000 th epoch -> 0.0020090261377199896\n",
      "Value of cost at  9100 th epoch -> 0.0002593124177595025\n",
      "Value of cost at  9200 th epoch -> 0.00810638027146645\n",
      "Value of cost at  9300 th epoch -> 0.002279934180160806\n",
      "Value of cost at  9400 th epoch -> 0.005702712800760879\n",
      "Value of cost at  9500 th epoch -> 0.005853383273208058\n",
      "Value of cost at  9600 th epoch -> 0.0069483086277264666\n",
      "Value of cost at  9700 th epoch -> 0.007077332963779757\n",
      "Value of cost at  9800 th epoch -> 0.004169803949598807\n",
      "Value of cost at  9900 th epoch -> 0.00641839384306502\n"
     ]
    }
   ],
   "source": [
    "def stochastic_gradient_descent(X, y_true, epochs, learning_rate = 0.01):\n",
    " \n",
    "    number_of_features = X.shape[1]\n",
    "    # numpy array with 1 row and columns equal to number of features. In \n",
    "    # our case number_of_features = 3 (area, bedroom and age)\n",
    "    w = np.ones(shape=(number_of_features)) \n",
    "    b = 0\n",
    "    total_samples = X.shape[0]\n",
    "    \n",
    "    cost_list = []\n",
    "    epoch_list = []\n",
    "    \n",
    "    for i in range(epochs):    \n",
    "        random_index = random.randint(0,total_samples-1) # random index from total samples\n",
    "        sample_x = X[random_index]\n",
    "        sample_y = y_true[random_index]\n",
    "    \n",
    "        y_predicted = np.dot(w, sample_x.T) + b\n",
    "    \n",
    "        w_grad = -(1/total_samples)*(sample_x.T.dot(sample_y-y_predicted))\n",
    "        b_grad = -(1/total_samples)*(sample_y-y_predicted)\n",
    "        \n",
    "        w = w - learning_rate * w_grad\n",
    "        b = b - learning_rate * b_grad\n",
    "        \n",
    "        cost = np.square(sample_y-y_predicted)\n",
    "        \n",
    "        if i%100==0: # at every 100th iteration record the cost and epoch value\n",
    "            cost_list.append(cost)\n",
    "            epoch_list.append(i)\n",
    "        \n",
    "    return w, b, cost, cost_list, epoch_list,epochs\n",
    "\n",
    "w_sgd, b_sgd, cost_sgd, cost_list_sgd, epoch_list_sgd,epochs = stochastic_gradient_descent(scaled_X,scaled_y.reshape(scaled_y.shape[0],),10000)\n",
    " \n",
    "print(f\"Parameters w updated after {epochs} epochs \",w_sgd)\n",
    "print(\"Parameter b updated \",b_sgd)\n",
    "print(f\"final cost after {epochs} epochs \", cost_sgd)\n",
    "for i in range(len(cost_list_sgd)):\n",
    "    print(\"Value of cost at \", epoch_list_sgd[i],\"th epoch\",\"->\",cost_list_sgd[i])"
   ]
  },
  {
   "cell_type": "markdown",
   "metadata": {},
   "source": [
    "Compare this with weights and bias that we got using gradient descent. They both of quite similar."
   ]
  },
  {
   "cell_type": "code",
   "execution_count": 99,
   "metadata": {},
   "outputs": [
    {
     "data": {
      "text/plain": [
       "(array([0.75542433, 0.41584433]), np.float64(-0.1168495091725071))"
      ]
     },
     "execution_count": 99,
     "metadata": {},
     "output_type": "execute_result"
    }
   ],
   "source": [
    "w , b "
   ]
  },
  {
   "cell_type": "code",
   "execution_count": 100,
   "metadata": {},
   "outputs": [
    {
     "data": {
      "text/plain": [
       "[<matplotlib.lines.Line2D at 0x1117d73a0>]"
      ]
     },
     "execution_count": 100,
     "metadata": {},
     "output_type": "execute_result"
    },
    {
     "data": {
      "image/png": "[encoded data removed]",
      "text/plain": [
       "<Figure size 640x480 with 1 Axes>"
      ]
     },
     "metadata": {},
     "output_type": "display_data"
    }
   ],
   "source": [
    "plt.xlabel(\"epoch\")\n",
    "plt.ylabel(\"cost\")\n",
    "plt.plot(epoch_list_sgd,cost_list_sgd)"
   ]
  },
  {
   "cell_type": "code",
   "execution_count": 101,
   "metadata": {},
   "outputs": [
    {
     "data": {
      "text/plain": [
       "np.float64(131.55412756654852)"
      ]
     },
     "execution_count": 101,
     "metadata": {},
     "output_type": "execute_result"
    }
   ],
   "source": [
    "predict(2600,4,w_sgd, b_sgd) "
   ]
  },
  {
   "cell_type": "code",
   "execution_count": 102,
   "metadata": {},
   "outputs": [
    {
     "data": {
      "text/plain": [
       "np.float64(25.703922876439727)"
      ]
     },
     "execution_count": 102,
     "metadata": {},
     "output_type": "execute_result"
    }
   ],
   "source": [
    "predict(1000,2,w_sgd, b_sgd)"
   ]
  },
  {
   "cell_type": "code",
   "execution_count": 103,
   "metadata": {},
   "outputs": [
    {
     "data": {
      "text/plain": [
       "np.float64(68.01503049664265)"
      ]
     },
     "execution_count": 103,
     "metadata": {},
     "output_type": "execute_result"
    }
   ],
   "source": [
    "predict(1500,3,w_sgd, b_sgd)"
   ]
  }
 ],
 "metadata": {
  "kernelspec": {
   "display_name": "Python 3",
   "language": "python",
   "name": "python3"
  },
  "language_info": {
   "codemirror_mode": {
    "name": "ipython",
    "version": 3
   },
   "file_extension": ".py",
   "mimetype": "text/x-python",
   "name": "python",
   "nbconvert_exporter": "python",
   "pygments_lexer": "ipython3",
   "version": "3.10.16"
  }
 },
 "nbformat": 4,
 "nbformat_minor": 4
}
